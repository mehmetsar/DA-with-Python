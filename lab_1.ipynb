{
  "nbformat": 4,
  "nbformat_minor": 5,
  "metadata": {
    "kernelspec": {
      "display_name": "Python 3",
      "language": "python",
      "name": "python3"
    },
    "language_info": {
      "codemirror_mode": {
        "name": "ipython",
        "version": 3
      },
      "file_extension": ".py",
      "mimetype": "text/x-python",
      "name": "python",
      "nbconvert_exporter": "python",
      "pygments_lexer": "ipython3",
      "version": "3.8.5"
    },
    "colab": {
      "name": "lab-1.ipynb",
      "provenance": [],
      "include_colab_link": true
    }
  },
  "cells": [
    {
      "cell_type": "markdown",
      "metadata": {
        "id": "view-in-github",
        "colab_type": "text"
      },
      "source": [
        "<a href=\"https://colab.research.google.com/github/mehmetsar/DA-with-Python/blob/master/lab_1.ipynb\" target=\"_parent\"><img src=\"https://colab.research.google.com/assets/colab-badge.svg\" alt=\"Open In Colab\"/></a>"
      ]
    },
    {
      "cell_type": "code",
      "metadata": {
        "id": "8f9d1365"
      },
      "source": [
        "import numpy as np"
      ],
      "id": "8f9d1365",
      "execution_count": null,
      "outputs": []
    },
    {
      "cell_type": "code",
      "metadata": {
        "id": "c35d5224",
        "outputId": "c5907b0c-b8dd-4517-9016-c286499a3cf7"
      },
      "source": [
        "liste = [1,2,3,4,5,6,7,8]\n",
        "a = np.array(liste)\n",
        "a\n"
      ],
      "id": "c35d5224",
      "execution_count": null,
      "outputs": [
        {
          "output_type": "execute_result",
          "data": {
            "text/plain": [
              "array([1, 2, 3, 4, 5, 6, 7, 8])"
            ]
          },
          "metadata": {
            "tags": []
          },
          "execution_count": 4
        }
      ]
    },
    {
      "cell_type": "code",
      "metadata": {
        "id": "7042c548",
        "outputId": "0e9bb5ba-b83b-43af-88a9-ede75e05f135"
      },
      "source": [
        "np.array([1,2,3,4,5])"
      ],
      "id": "7042c548",
      "execution_count": null,
      "outputs": [
        {
          "output_type": "execute_result",
          "data": {
            "text/plain": [
              "array([1, 2, 3, 4, 5])"
            ]
          },
          "metadata": {
            "tags": []
          },
          "execution_count": 5
        }
      ]
    },
    {
      "cell_type": "code",
      "metadata": {
        "id": "a05f05fb",
        "outputId": "2e1f0620-d53a-4002-831d-8ffa6e2b0c15"
      },
      "source": [
        "type(a)  # değişkeninin tipini aldık"
      ],
      "id": "a05f05fb",
      "execution_count": null,
      "outputs": [
        {
          "output_type": "execute_result",
          "data": {
            "text/plain": [
              "numpy.ndarray"
            ]
          },
          "metadata": {
            "tags": []
          },
          "execution_count": 7
        }
      ]
    },
    {
      "cell_type": "code",
      "metadata": {
        "id": "e5c26817",
        "outputId": "f7ab4969-f9a3-40b9-90a5-09f3bd961db8"
      },
      "source": [
        "a.dtype  # dizinin tuttuğu değerlerin tipini aldık. Hepsi aynı tip veri\n"
      ],
      "id": "e5c26817",
      "execution_count": null,
      "outputs": [
        {
          "output_type": "execute_result",
          "data": {
            "text/plain": [
              "dtype('int32')"
            ]
          },
          "metadata": {
            "tags": []
          },
          "execution_count": 8
        }
      ]
    },
    {
      "cell_type": "code",
      "metadata": {
        "id": "f87f83b1",
        "outputId": "bb57ca15-1aac-4bdc-82b2-15313f6cc119"
      },
      "source": [
        "a.shape  # tek boyutlu olduğu için bu dizi bir vektör"
      ],
      "id": "f87f83b1",
      "execution_count": null,
      "outputs": [
        {
          "output_type": "execute_result",
          "data": {
            "text/plain": [
              "(8,)"
            ]
          },
          "metadata": {
            "tags": []
          },
          "execution_count": 9
        }
      ]
    }
  ]
}